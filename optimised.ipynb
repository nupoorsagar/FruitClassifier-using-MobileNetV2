{
  "nbformat": 4,
  "nbformat_minor": 0,
  "metadata": {
    "colab": {
      "provenance": [],
      "include_colab_link": true
    },
    "kernelspec": {
      "name": "python3",
      "display_name": "Python 3"
    },
    "language_info": {
      "name": "python"
    }
  },
  "cells": [
    {
      "cell_type": "markdown",
      "metadata": {
        "id": "view-in-github",
        "colab_type": "text"
      },
      "source": [
        "<a href=\"https://colab.research.google.com/github/nupoorsagar/FruitClassifier-using-MobileNetV2/blob/main/optimised.ipynb\" target=\"_parent\"><img src=\"https://colab.research.google.com/assets/colab-badge.svg\" alt=\"Open In Colab\"/></a>"
      ]
    },
    {
      "cell_type": "code",
      "execution_count": null,
      "metadata": {
        "id": "r6SgPlF5FSPt",
        "colab": {
          "base_uri": "https://localhost:8080/"
        },
        "outputId": "ca2e5ded-f33f-46cd-f081-3527b5e73f39"
      },
      "outputs": [
        {
          "output_type": "execute_result",
          "data": {
            "text/plain": [
              "['mango fruit',\n",
              " 'strawberry fruit',\n",
              " 'cherry fruit',\n",
              " 'apple fruit',\n",
              " 'chickoo fruit',\n",
              " 'kiwi fruit',\n",
              " 'banana fruit',\n",
              " 'grapes fruit',\n",
              " 'orange fruit']"
            ]
          },
          "metadata": {},
          "execution_count": 1
        }
      ],
      "source": [
        "import zipfile\n",
        "import os\n",
        "\n",
        "zip_path = \"/content/train_aug_images.zip\"  # Update if needed\n",
        "extract_path = \"/content/fruits_aug_dataset\"\n",
        "\n",
        "# Unzipping\n",
        "with zipfile.ZipFile(zip_path, 'r') as zip_ref:\n",
        "    zip_ref.extractall(extract_path)\n",
        "\n",
        "# Check extracted files\n",
        "os.listdir(extract_path)"
      ]
    },
    {
      "cell_type": "code",
      "source": [
        "import cv2\n",
        "import numpy as np\n",
        "from PIL import Image\n",
        "\n",
        "def preprocess_image_for_model(img_path, target_size=(96, 96)):\n",
        "    # Load image using OpenCV\n",
        "    img = cv2.imread(img_path)\n",
        "\n",
        "    # Remove background with thresholding (basic technique)\n",
        "    gray = cv2.cvtColor(img, cv2.COLOR_BGR2GRAY)\n",
        "    _, mask = cv2.threshold(gray, 245, 255, cv2.THRESH_BINARY_INV)\n",
        "\n",
        "    # Create white background\n",
        "    white_bg = np.ones_like(img, dtype=np.uint8) * 255\n",
        "    img_no_bg = cv2.bitwise_and(img, img, mask=mask)\n",
        "    inv_mask = cv2.bitwise_not(mask)\n",
        "    white_bg = cv2.bitwise_and(white_bg, white_bg, mask=inv_mask)\n",
        "    final_img = cv2.add(img_no_bg, white_bg)\n",
        "\n",
        "    # Apply CLAHE to each channel\n",
        "    lab = cv2.cvtColor(final_img, cv2.COLOR_BGR2LAB)\n",
        "    l, a, b = cv2.split(lab)\n",
        "    clahe = cv2.createCLAHE(clipLimit=2.0, tileGridSize=(8, 8))\n",
        "    cl = clahe.apply(l)\n",
        "    limg = cv2.merge((cl, a, b))\n",
        "    enhanced = cv2.cvtColor(limg, cv2.COLOR_LAB2BGR)\n",
        "\n",
        "    # Resize and normalize\n",
        "    enhanced = cv2.resize(enhanced, target_size)\n",
        "    enhanced = enhanced.astype('float32') / 255.0\n",
        "    return np.expand_dims(enhanced, axis=0)  # Shape: (1, h, w, 3)"
      ],
      "metadata": {
        "id": "cKtAbJEAgk8C"
      },
      "execution_count": null,
      "outputs": []
    },
    {
      "cell_type": "code",
      "source": [
        "from tensorflow.keras.applications import MobileNetV2\n",
        "from tensorflow.keras.models import Model\n",
        "from tensorflow.keras.layers import Input, GlobalAveragePooling2D, Dropout, Dense\n",
        "from tensorflow.keras.optimizers import Adam\n",
        "\n",
        "def build_model(num_classes):\n",
        "    base = MobileNetV2(input_shape=(96, 96, 3), include_top=False, weights='imagenet')\n",
        "    base.trainable = False  # Freeze feature extractor\n",
        "\n",
        "    inputs = Input(shape=(96, 96, 3))\n",
        "    x = base(inputs, training=False)\n",
        "    x = GlobalAveragePooling2D()(x)\n",
        "    x = Dropout(0.3)(x)\n",
        "    outputs = Dense(num_classes, activation='softmax')(x)\n",
        "\n",
        "    model = Model(inputs, outputs)\n",
        "    model.compile(optimizer=Adam(1e-4), loss='categorical_crossentropy', metrics=['accuracy'])\n",
        "    return model"
      ],
      "metadata": {
        "id": "EIcTvvFfgluf"
      },
      "execution_count": null,
      "outputs": []
    },
    {
      "cell_type": "code",
      "source": [
        "from tensorflow.keras.preprocessing.image import ImageDataGenerator\n",
        "\n",
        "train_gen = ImageDataGenerator(\n",
        "    rescale=1./255,\n",
        "    rotation_range=20,\n",
        "    zoom_range=0.2,\n",
        "    width_shift_range=0.1,\n",
        "    height_shift_range=0.1,\n",
        "    shear_range=0.1,\n",
        "    horizontal_flip=True,\n",
        "    fill_mode='nearest'\n",
        ")\n",
        "\n",
        "train_data = train_gen.flow_from_directory(\n",
        "    '/content/fruits_aug_dataset',  # ✅ Use only the augmented folder\n",
        "    target_size=(96, 96),\n",
        "    batch_size=32,\n",
        "    class_mode='categorical'\n",
        ")\n",
        "\n",
        "num_classes = len(train_data.class_indices)\n",
        "model = build_model(num_classes)\n",
        "\n",
        "history = model.fit(train_data, epochs=20)\n",
        "\n",
        "# Save the trained model\n",
        "model.save(\"mobilenetv2_fruit_classifier.h5\")\n"
      ],
      "metadata": {
        "colab": {
          "base_uri": "https://localhost:8080/"
        },
        "id": "JgnxK8ZxgqW3",
        "outputId": "0b47db7a-2749-494f-ef08-3c65af309060"
      },
      "execution_count": null,
      "outputs": [
        {
          "output_type": "stream",
          "name": "stdout",
          "text": [
            "Found 2876 images belonging to 9 classes.\n",
            "Epoch 1/20\n",
            "\u001b[1m90/90\u001b[0m \u001b[32m━━━━━━━━━━━━━━━━━━━━\u001b[0m\u001b[37m\u001b[0m \u001b[1m84s\u001b[0m 870ms/step - accuracy: 0.2158 - loss: 2.4624\n",
            "Epoch 2/20\n",
            "\u001b[1m90/90\u001b[0m \u001b[32m━━━━━━━━━━━━━━━━━━━━\u001b[0m\u001b[37m\u001b[0m \u001b[1m77s\u001b[0m 859ms/step - accuracy: 0.4110 - loss: 1.7724\n",
            "Epoch 3/20\n",
            "\u001b[1m90/90\u001b[0m \u001b[32m━━━━━━━━━━━━━━━━━━━━\u001b[0m\u001b[37m\u001b[0m \u001b[1m74s\u001b[0m 820ms/step - accuracy: 0.5353 - loss: 1.3784\n",
            "Epoch 4/20\n",
            "\u001b[1m90/90\u001b[0m \u001b[32m━━━━━━━━━━━━━━━━━━━━\u001b[0m\u001b[37m\u001b[0m \u001b[1m74s\u001b[0m 816ms/step - accuracy: 0.6393 - loss: 1.0961\n",
            "Epoch 5/20\n",
            "\u001b[1m90/90\u001b[0m \u001b[32m━━━━━━━━━━━━━━━━━━━━\u001b[0m\u001b[37m\u001b[0m \u001b[1m76s\u001b[0m 834ms/step - accuracy: 0.7068 - loss: 0.9136\n",
            "Epoch 6/20\n",
            "\u001b[1m90/90\u001b[0m \u001b[32m━━━━━━━━━━━━━━━━━━━━\u001b[0m\u001b[37m\u001b[0m \u001b[1m76s\u001b[0m 839ms/step - accuracy: 0.7381 - loss: 0.7898\n",
            "Epoch 7/20\n",
            "\u001b[1m90/90\u001b[0m \u001b[32m━━━━━━━━━━━━━━━━━━━━\u001b[0m\u001b[37m\u001b[0m \u001b[1m76s\u001b[0m 846ms/step - accuracy: 0.7738 - loss: 0.6943\n",
            "Epoch 8/20\n",
            "\u001b[1m90/90\u001b[0m \u001b[32m━━━━━━━━━━━━━━━━━━━━\u001b[0m\u001b[37m\u001b[0m \u001b[1m75s\u001b[0m 836ms/step - accuracy: 0.7919 - loss: 0.6500\n",
            "Epoch 9/20\n",
            "\u001b[1m90/90\u001b[0m \u001b[32m━━━━━━━━━━━━━━━━━━━━\u001b[0m\u001b[37m\u001b[0m \u001b[1m78s\u001b[0m 868ms/step - accuracy: 0.8128 - loss: 0.5853\n",
            "Epoch 10/20\n",
            "\u001b[1m90/90\u001b[0m \u001b[32m━━━━━━━━━━━━━━━━━━━━\u001b[0m\u001b[37m\u001b[0m \u001b[1m74s\u001b[0m 820ms/step - accuracy: 0.8148 - loss: 0.5551\n",
            "Epoch 11/20\n",
            "\u001b[1m90/90\u001b[0m \u001b[32m━━━━━━━━━━━━━━━━━━━━\u001b[0m\u001b[37m\u001b[0m \u001b[1m81s\u001b[0m 899ms/step - accuracy: 0.8362 - loss: 0.5041\n",
            "Epoch 12/20\n",
            "\u001b[1m90/90\u001b[0m \u001b[32m━━━━━━━━━━━━━━━━━━━━\u001b[0m\u001b[37m\u001b[0m \u001b[1m73s\u001b[0m 815ms/step - accuracy: 0.8521 - loss: 0.4662\n",
            "Epoch 13/20\n",
            "\u001b[1m90/90\u001b[0m \u001b[32m━━━━━━━━━━━━━━━━━━━━\u001b[0m\u001b[37m\u001b[0m \u001b[1m77s\u001b[0m 846ms/step - accuracy: 0.8550 - loss: 0.4473\n",
            "Epoch 14/20\n",
            "\u001b[1m90/90\u001b[0m \u001b[32m━━━━━━━━━━━━━━━━━━━━\u001b[0m\u001b[37m\u001b[0m \u001b[1m75s\u001b[0m 832ms/step - accuracy: 0.8783 - loss: 0.3924\n",
            "Epoch 15/20\n",
            "\u001b[1m90/90\u001b[0m \u001b[32m━━━━━━━━━━━━━━━━━━━━\u001b[0m\u001b[37m\u001b[0m \u001b[1m82s\u001b[0m 913ms/step - accuracy: 0.8652 - loss: 0.3810\n",
            "Epoch 16/20\n",
            "\u001b[1m90/90\u001b[0m \u001b[32m━━━━━━━━━━━━━━━━━━━━\u001b[0m\u001b[37m\u001b[0m \u001b[1m75s\u001b[0m 830ms/step - accuracy: 0.8826 - loss: 0.3546\n",
            "Epoch 17/20\n",
            "\u001b[1m90/90\u001b[0m \u001b[32m━━━━━━━━━━━━━━━━━━━━\u001b[0m\u001b[37m\u001b[0m \u001b[1m79s\u001b[0m 874ms/step - accuracy: 0.8944 - loss: 0.3356\n",
            "Epoch 18/20\n",
            "\u001b[1m90/90\u001b[0m \u001b[32m━━━━━━━━━━━━━━━━━━━━\u001b[0m\u001b[37m\u001b[0m \u001b[1m74s\u001b[0m 827ms/step - accuracy: 0.8922 - loss: 0.3209\n",
            "Epoch 19/20\n",
            "\u001b[1m90/90\u001b[0m \u001b[32m━━━━━━━━━━━━━━━━━━━━\u001b[0m\u001b[37m\u001b[0m \u001b[1m79s\u001b[0m 870ms/step - accuracy: 0.8916 - loss: 0.3344\n",
            "Epoch 20/20\n",
            "\u001b[1m90/90\u001b[0m \u001b[32m━━━━━━━━━━━━━━━━━━━━\u001b[0m\u001b[37m\u001b[0m \u001b[1m74s\u001b[0m 816ms/step - accuracy: 0.9041 - loss: 0.3126\n"
          ]
        },
        {
          "output_type": "stream",
          "name": "stderr",
          "text": [
            "WARNING:absl:You are saving your model as an HDF5 file via `model.save()` or `keras.saving.save_model(model)`. This file format is considered legacy. We recommend using instead the native Keras format, e.g. `model.save('my_model.keras')` or `keras.saving.save_model(model, 'my_model.keras')`. \n"
          ]
        }
      ]
    },
    {
      "cell_type": "code",
      "source": [
        "from sklearn.metrics import confusion_matrix, classification_report\n",
        "import numpy as np\n",
        "import matplotlib.pyplot as plt\n",
        "import seaborn as sns\n",
        "from tensorflow.keras.models import load_model\n",
        "\n",
        "model = load_model(\"/content/mobilenetv2_fruit_classifier.h5\")\n",
        "\n",
        "from tensorflow.keras.preprocessing.image import ImageDataGenerator\n",
        "datagen = ImageDataGenerator(rescale=1.0/255)\n",
        "train_data = datagen.flow_from_directory(\n",
        "    '/content/validation_images',\n",
        "    target_size=(96, 96),\n",
        "    batch_size=32,\n",
        "    class_mode='categorical',\n",
        "    shuffle=False\n",
        ")\n",
        "pred_probs = model.predict(train_data)\n",
        "y_pred = np.argmax(pred_probs, axis=1)\n",
        "y_true = train_data.classes\n",
        "class_labels = list(train_data.class_indices.keys())\n",
        "print(\"Classification Report:\\n\")\n",
        "print(classification_report(y_true, y_pred, target_names=class_labels))\n",
        "cm = confusion_matrix(y_true, y_pred)\n",
        "plt.figure(figsize=(10, 7))\n",
        "sns.heatmap(cm, annot=True, fmt='d', xticklabels=class_labels, yticklabels=class_labels, cmap='Blues')\n",
        "plt.xlabel('Predicted')\n",
        "plt.ylabel('Actual')\n",
        "plt.title('Confusion Matrix (validation data)')\n",
        "plt.show()"
      ],
      "metadata": {
        "colab": {
          "base_uri": "https://localhost:8080/",
          "height": 1000
        },
        "id": "D75_VMSjbQoQ",
        "outputId": "d2ac3e94-e5f7-4389-abe3-566935684dd5"
      },
      "execution_count": null,
      "outputs": [
        {
          "output_type": "stream",
          "name": "stderr",
          "text": [
            "WARNING:absl:Compiled the loaded model, but the compiled metrics have yet to be built. `model.compile_metrics` will be empty until you train or evaluate the model.\n"
          ]
        },
        {
          "output_type": "stream",
          "name": "stdout",
          "text": [
            "Found 45 images belonging to 9 classes.\n"
          ]
        },
        {
          "output_type": "stream",
          "name": "stderr",
          "text": [
            "/usr/local/lib/python3.11/dist-packages/keras/src/trainers/data_adapters/py_dataset_adapter.py:121: UserWarning: Your `PyDataset` class should call `super().__init__(**kwargs)` in its constructor. `**kwargs` can include `workers`, `use_multiprocessing`, `max_queue_size`. Do not pass these arguments to `fit()`, as they will be ignored.\n",
            "  self._warn_if_super_not_called()\n"
          ]
        },
        {
          "output_type": "stream",
          "name": "stdout",
          "text": [
            "\u001b[1m2/2\u001b[0m \u001b[32m━━━━━━━━━━━━━━━━━━━━\u001b[0m\u001b[37m\u001b[0m \u001b[1m3s\u001b[0m 1s/step\n",
            "Classification Report:\n",
            "\n",
            "              precision    recall  f1-score   support\n",
            "\n",
            "       apple       1.00      0.80      0.89         5\n",
            "      banana       1.00      0.60      0.75         5\n",
            "      cherry       1.00      1.00      1.00         5\n",
            "     chickoo       0.62      1.00      0.77         5\n",
            "      grapes       1.00      0.80      0.89         5\n",
            "        kiwi       0.83      1.00      0.91         5\n",
            "       mango       0.62      1.00      0.77         5\n",
            "      orange       1.00      0.60      0.75         5\n",
            "  strawberry       1.00      0.80      0.89         5\n",
            "\n",
            "    accuracy                           0.84        45\n",
            "   macro avg       0.90      0.84      0.85        45\n",
            "weighted avg       0.90      0.84      0.85        45\n",
            "\n"
          ]
        },
        {
          "output_type": "display_data",
          "data": {
            "text/plain": [
              "<Figure size 1000x700 with 2 Axes>"
            ],
            "image/png": "[encoded data removed]"
          },
          "metadata": {}
        }
      ]
    },
    {
      "cell_type": "code",
      "source": [
        "from tensorflow.keras.models import load_model\n",
        "\n",
        "# Load trained model\n",
        "model = load_model(\"mobilenetv2_fruit_classifier.h5\")\n",
        "\n",
        "# Load and preprocess new image\n",
        "img_path = \"/content/Screenshot 2025-04-05 at 6.52.09 PM.png\"  # Replace\n",
        "processed_img = preprocess_image_for_model(img_path, target_size=(96, 96))\n",
        "\n",
        "# Predict\n",
        "pred = model.predict(processed_img)\n",
        "class_index = np.argmax(pred)\n",
        "confidence = np.max(pred)\n",
        "\n",
        "# Map index to class\n",
        "class_labels = {v: k for k, v in train_data.class_indices.items()}\n",
        "\n",
        "print(f\"Predicted Class: {class_labels[class_index]} with confidence {confidence:.2f}\")"
      ],
      "metadata": {
        "colab": {
          "base_uri": "https://localhost:8080/"
        },
        "id": "ofxAW5DBgt5q",
        "outputId": "b5070dfd-d46b-47ad-98a3-3b87236c01fd"
      },
      "execution_count": null,
      "outputs": [
        {
          "output_type": "stream",
          "name": "stderr",
          "text": [
            "WARNING:absl:Compiled the loaded model, but the compiled metrics have yet to be built. `model.compile_metrics` will be empty until you train or evaluate the model.\n"
          ]
        },
        {
          "output_type": "stream",
          "name": "stdout",
          "text": [
            "\u001b[1m1/1\u001b[0m \u001b[32m━━━━━━━━━━━━━━━━━━━━\u001b[0m\u001b[37m\u001b[0m \u001b[1m1s\u001b[0m 1s/step\n",
            "Predicted Class: banana with confidence 0.38\n"
          ]
        }
      ]
    },
    {
      "cell_type": "code",
      "source": [
        "import zipfile\n",
        "import os\n",
        "\n",
        "zip_path = \"/content/validation_5_each.zip\"  # Update if needed\n",
        "extract_path = \"/content/validation_images\"\n",
        "\n",
        "# Unzipping\n",
        "with zipfile.ZipFile(zip_path, 'r') as zip_ref:\n",
        "    zip_ref.extractall(extract_path)\n",
        "\n",
        "# Check extracted files\n",
        "os.listdir(extract_path)"
      ],
      "metadata": {
        "colab": {
          "base_uri": "https://localhost:8080/"
        },
        "id": "LZ5SHq5lg9ic",
        "outputId": "311f242e-c312-4c29-e958-ec71ecd257d6"
      },
      "execution_count": null,
      "outputs": [
        {
          "output_type": "execute_result",
          "data": {
            "text/plain": [
              "['apple',\n",
              " 'cherry',\n",
              " 'banana',\n",
              " 'grapes',\n",
              " 'mango',\n",
              " 'chickoo',\n",
              " 'strawberry',\n",
              " 'kiwi',\n",
              " 'orange']"
            ]
          },
          "metadata": {},
          "execution_count": 8
        }
      ]
    },
    {
      "cell_type": "code",
      "source": [
        "from tensorflow.keras.models import load_model\n",
        "from tensorflow.keras.preprocessing.image import ImageDataGenerator\n",
        "\n",
        "# Load saved model\n",
        "model = load_model('/content/mobilenetv2_fruit_classifier.h5')\n",
        "\n",
        "# Define validation data directory\n",
        "validation_dir = \"/content/validation_images\"\n",
        "\n",
        "# Preprocess images (resize and normalize)\n",
        "val_datagen = ImageDataGenerator(rescale=1./255)\n",
        "\n",
        "val_generator = val_datagen.flow_from_directory(\n",
        "    validation_dir,\n",
        "    target_size=(96, 96),  # <- change this to 96x96\n",
        "    batch_size=32,\n",
        "    class_mode='categorical',\n",
        "    shuffle=False\n",
        ")\n",
        "# Evaluate model on validation data\n",
        "loss, accuracy = model.evaluate(val_generator)\n",
        "print(f'Validation Accuracy: {accuracy * 100:.2f}%')"
      ],
      "metadata": {
        "colab": {
          "base_uri": "https://localhost:8080/"
        },
        "id": "DQhC8A5ThBgS",
        "outputId": "f234dd7d-94d4-4bf0-af43-03e9aa2fe9e6"
      },
      "execution_count": null,
      "outputs": [
        {
          "output_type": "stream",
          "name": "stderr",
          "text": [
            "WARNING:absl:Compiled the loaded model, but the compiled metrics have yet to be built. `model.compile_metrics` will be empty until you train or evaluate the model.\n"
          ]
        },
        {
          "output_type": "stream",
          "name": "stdout",
          "text": [
            "Found 45 images belonging to 9 classes.\n",
            "\u001b[1m2/2\u001b[0m \u001b[32m━━━━━━━━━━━━━━━━━━━━\u001b[0m\u001b[37m\u001b[0m \u001b[1m4s\u001b[0m 137ms/step - accuracy: 0.8546 - loss: 0.6213\n",
            "Validation Accuracy: 84.44%\n"
          ]
        }
      ]
    }
  ]
}